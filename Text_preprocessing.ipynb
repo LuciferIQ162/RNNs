{
 "cells": [
  {
   "cell_type": "code",
   "execution_count": 1,
   "id": "08248795",
   "metadata": {},
   "outputs": [
    {
     "name": "stderr",
     "output_type": "stream",
     "text": [
      "2025-09-28 12:52:19.174893: I tensorflow/core/platform/cpu_feature_guard.cc:210] This TensorFlow binary is optimized to use available CPU instructions in performance-critical operations.\n",
      "To enable the following instructions: AVX2 FMA, in other operations, rebuild TensorFlow with the appropriate compiler flags.\n"
     ]
    }
   ],
   "source": [
    "from tensorflow.keras.layers import TextVectorization\n",
    "\n"
   ]
  },
  {
   "cell_type": "code",
   "execution_count": 4,
   "id": "7d800c7f",
   "metadata": {},
   "outputs": [
    {
     "name": "stdout",
     "output_type": "stream",
     "text": [
      "vecotrized text data:\n",
      " [[ 8  4 11  2  0  0  0  0  0  0]\n",
      " [ 3  5 10  7  2  0  0  0  0  0]\n",
      " [ 4 12  2  0  0  0  0  0  0  0]\n",
      " [ 3  5  9  6  0  0  0  0  0  0]]\n"
     ]
    }
   ],
   "source": [
    "#smaple text data\n",
    "text = [\n",
    "    \"Hello, how are you?\",\n",
    "    \"I am fine, thank you!\",\n",
    "    \"How about you\",\n",
    "    \"I am good too\"\n",
    "]\n",
    "#define the textvectorization layer\n",
    "vectorizer = TextVectorization(output_mode='int', max_tokens=100,\n",
    "output_sequence_length=10)\n",
    "\n",
    "#adapt the vectorizer to the text data\n",
    "vectorizer.adapt(text)\n",
    "\n",
    "#vectorize the text data\n",
    "text_vectorized = vectorizer(text)\n",
    "print(\"vecotrized text data:\\n\", text_vectorized.numpy())\n"
   ]
  },
  {
   "cell_type": "code",
   "execution_count": null,
   "id": "510a0af8",
   "metadata": {},
   "outputs": [],
   "source": []
  }
 ],
 "metadata": {
  "kernelspec": {
   "display_name": "Python 3",
   "language": "python",
   "name": "python3"
  },
  "language_info": {
   "codemirror_mode": {
    "name": "ipython",
    "version": 3
   },
   "file_extension": ".py",
   "mimetype": "text/x-python",
   "name": "python",
   "nbconvert_exporter": "python",
   "pygments_lexer": "ipython3",
   "version": "3.9.23"
  }
 },
 "nbformat": 4,
 "nbformat_minor": 5
}
